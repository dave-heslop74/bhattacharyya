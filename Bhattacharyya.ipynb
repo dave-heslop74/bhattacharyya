{
 "cells": [
  {
   "cell_type": "markdown",
   "metadata": {},
   "source": [
    "# Quantifying the similarity of paleomagnetic poles\n",
    "## by D. Heslop (david.heslop@anu.edu.au) & A. P. Roberts\n",
    "### Jupyter Notebook version 1.0 (June 2019)\n",
    "\n",
    "Calculate the Bhattacharyya coefficient and Bayes error of two paleomagnetic poles using the framework presented by Heslop & Roberts (JGR, 2019).\n",
    "\n",
    "A tutorial video demonstrating this notebook is [available here](http://rses.anu.edu.au).\n",
    "<hr style=\"height:3px;border:none;color:#333;background-color:#333;\" />\n",
    "\n",
    "### Getting started\n",
    "Select the code cell below and press ```shift``` + ```enter```, to launch an interface and define the parameters of the two poles to be compared.\n",
    "\n",
    "### Pole parameters\n",
    "Each pole is characterized by 4 parameters:\n",
    "1. PLat - the pole latitude in degrees [value between -90$^\\circ$ and +90$^\\circ$ ].\n",
    "2. PLon - the pole longitude in degrees [value between 0$^\\circ$ and 360$^\\circ$ ].\n",
    "3. $\\kappa$ - the Fisher distribution dispersion of the pole [value $>$0].\n",
    "4. $R$ - the resultant length of the mean vector from which the pole was estimated [value $\\geq$1].\n",
    "\n",
    "### Results\n",
    "The estimated Bhattacharyya coefficient and Bayes error are updated automatically as values in the interface are modified. After you modify a given parameter, make sure you press ```Enter``` so that the results will be updated.\n",
    "<hr style=\"height:3px;border:none;color:#333;background-color:#333;\" />"
   ]
  },
  {
   "cell_type": "code",
   "execution_count": null,
   "metadata": {},
   "outputs": [],
   "source": [
    "import bhattacharyya as bh\n",
    "bh.open_console()"
   ]
  }
 ],
 "metadata": {
  "kernelspec": {
   "display_name": "Python 3",
   "language": "python",
   "name": "python3"
  },
  "language_info": {
   "codemirror_mode": {
    "name": "ipython",
    "version": 3
   },
   "file_extension": ".py",
   "mimetype": "text/x-python",
   "name": "python",
   "nbconvert_exporter": "python",
   "pygments_lexer": "ipython3",
   "version": "3.6.6"
  }
 },
 "nbformat": 4,
 "nbformat_minor": 2
}
