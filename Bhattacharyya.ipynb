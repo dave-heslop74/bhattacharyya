{
 "cells": [
  {
   "cell_type": "markdown",
   "metadata": {},
   "source": [
    "# Quantifying the similarity of paleomagnetic poles\n",
    "## by D. Heslop (david.heslop@anu.edu.au) & A. P. Roberts\n",
    "### Jupyter Notebook version 1.0 (June 2019)\n",
    "\n",
    "Calculate the Bhattacharyya coefficient and Bayes error of two Fisher distributions using the framework presented by Heslop & Roberts (JGR, 2019).\n",
    "\n",
    "A tutorial video demonstrating this notebook is [available here](http://rses.anu.edu.au).\n",
    "<hr style=\"height:3px;border:none;color:#333;background-color:#333;\" />\n",
    "\n",
    "### Getting started\n",
    "Select the code cell below and press ```shift``` + ```enter```, to launch an interface and define the parameters of the two distributions to be compared.\n",
    "\n",
    "### Distribution parameters\n",
    "Each distribution is characterized by 4 parameters:\n",
    "1. inc - the inclination of the distribution mean in degrees [value between -90$^\\circ$ and +90$^\\circ$ ].\n",
    "2. dec - the declination of the distribution mean in degrees [value between 0$^\\circ$ and 360$^\\circ$ ].\n",
    "3. $\\kappa$ - the dispersion of the distribution [value $>$0].\n",
    "4. $R$ - the resultant length of the mean vector from which the distribution was estimated [value $\\geq$1].\n",
    "\n",
    "### Comparing Fisher distributions or paleomagnetic poles\n",
    "If $R$ is set to 1 (default value) then a comparison is made between the two defined Fisher distributions. If you wish to compare two paleomagnetic poles, then the $R$ values on which the poles were estimated should be defined.\n",
    "\n",
    "### Results\n",
    "The estimated Bhattacharyya coefficient and Bayes error updated automatically as values in the interface are modified. After you modify a given parameter, make sure you press ```Enter``` so that the results will be updated.\n",
    "<hr style=\"height:3px;border:none;color:#333;background-color:#333;\" />"
   ]
  },
  {
   "cell_type": "code",
   "execution_count": 1,
   "metadata": {},
   "outputs": [
    {
     "data": {
      "application/vnd.jupyter.widget-view+json": {
       "model_id": "c963bd28f98e4a29af13acb78c8605ed",
       "version_major": 2,
       "version_minor": 0
      },
      "text/plain": [
       "VBox(children=(HBox(children=(VBox(children=(HTML(value='<h4>Distribution A</h4>'), BoundedFloatText(value=0.0…"
      ]
     },
     "metadata": {},
     "output_type": "display_data"
    },
    {
     "data": {
      "application/vnd.jupyter.widget-view+json": {
       "model_id": "cce675c296804ca0b38b0d59de8aae02",
       "version_major": 2,
       "version_minor": 0
      },
      "text/plain": [
       "Output()"
      ]
     },
     "metadata": {},
     "output_type": "display_data"
    }
   ],
   "source": [
    "import bhattacharyya as bh\n",
    "bh.open_console()"
   ]
  },
  {
   "cell_type": "code",
   "execution_count": null,
   "metadata": {},
   "outputs": [],
   "source": []
  }
 ],
 "metadata": {
  "kernelspec": {
   "display_name": "Python 3",
   "language": "python",
   "name": "python3"
  },
  "language_info": {
   "codemirror_mode": {
    "name": "ipython",
    "version": 3
   },
   "file_extension": ".py",
   "mimetype": "text/x-python",
   "name": "python",
   "nbconvert_exporter": "python",
   "pygments_lexer": "ipython3",
   "version": "3.6.6"
  }
 },
 "nbformat": 4,
 "nbformat_minor": 2
}
